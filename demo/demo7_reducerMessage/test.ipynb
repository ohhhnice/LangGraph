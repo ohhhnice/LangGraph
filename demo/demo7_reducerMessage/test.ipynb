{
 "cells": [
  {
   "cell_type": "code",
   "execution_count": 31,
   "metadata": {},
   "outputs": [
    {
     "data": {
      "text/plain": [
       "[HumanMessage(content='Yes, I know about whales. But what others should I learn about?', additional_kwargs={}, response_metadata={})]"
      ]
     },
     "execution_count": 31,
     "metadata": {},
     "output_type": "execute_result"
    }
   ],
   "source": [
    "from langchain_core.messages import trim_messages\n",
    "from langgraph.graph import MessagesState\n",
    "from langchain_core.messages import AIMessage, HumanMessage\n",
    "from langchain_openai import ChatOpenAI\n",
    "\n",
    "messages = [AIMessage(\"Hi.\")]\n",
    "messages.append(HumanMessage(\"Hi.\"))\n",
    "messages.append(AIMessage(\"So you said you were researching ocean mammals?\"))\n",
    "messages.append(HumanMessage(\"Yes, I know about whales. But what others should I learn about?\"))\n",
    "\n",
    "output = trim_messages(\n",
    "    messages,\n",
    "    max_tokens=30,\n",
    "    strategy=\"last\",\n",
    "    token_counter=ChatOpenAI(model=\"gpt-4o\"),\n",
    "    allow_partial=True\n",
    ")\n",
    "\n",
    "# output = trim_messages(\n",
    "#     messages,\n",
    "#     max_tokens=100,\n",
    "#     strategy=\"last\",\n",
    "#     token_counter=ChatOpenAI(model=\"gpt-4o\"),\n",
    "#     allow_partial=False\n",
    "# )\n",
    "output"
   ]
  },
  {
   "cell_type": "code",
   "execution_count": 22,
   "metadata": {},
   "outputs": [
    {
     "name": "stdout",
     "output_type": "stream",
     "text": [
      "[HumanMessage(content='what do you call a speechless parrot', additional_kwargs={}, response_metadata={})]\n"
     ]
    }
   ],
   "source": [
    "from langchain_core.messages import (\n",
    "    AIMessage,\n",
    "    HumanMessage,\n",
    "    SystemMessage,\n",
    "    trim_messages,\n",
    ")\n",
    "from langchain_openai import ChatOpenAI\n",
    "\n",
    "# 使用API代理服务提高访问稳定性\n",
    "messages = [\n",
    "    SystemMessage(\"you're a good assistant, you always respond with a joke.\"),\n",
    "    HumanMessage(\"i wonder why it's called langchain\"),\n",
    "    AIMessage(\"Well, I guess they thought 'WordRope' and 'SentenceString' just didn't have the same ring to it!\"),\n",
    "    HumanMessage(\"and who is harrison chasing anyways\"),\n",
    "    AIMessage(\"Hmmm let me think.\\n\\nWhy, he's probably chasing after the last cup of coffee in the office!\"),\n",
    "    HumanMessage(\"what do you call a speechless parrot\"),\n",
    "]\n",
    "\n",
    "trimmed_messages = trim_messages(\n",
    "    messages,\n",
    "    max_tokens=20,\n",
    "    strategy=\"last\",\n",
    "    token_counter=ChatOpenAI(model=\"gpt-4o\"),\n",
    "    include_system=False,\n",
    "    allow_partial=False\n",
    ")\n",
    "\n",
    "print(trimmed_messages)"
   ]
  }
 ],
 "metadata": {
  "kernelspec": {
   "display_name": ".venv",
   "language": "python",
   "name": "python3"
  },
  "language_info": {
   "codemirror_mode": {
    "name": "ipython",
    "version": 3
   },
   "file_extension": ".py",
   "mimetype": "text/x-python",
   "name": "python",
   "nbconvert_exporter": "python",
   "pygments_lexer": "ipython3",
   "version": "3.12.7"
  }
 },
 "nbformat": 4,
 "nbformat_minor": 2
}
